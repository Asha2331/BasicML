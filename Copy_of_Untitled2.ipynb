{
  "nbformat": 4,
  "nbformat_minor": 0,
  "metadata": {
    "colab": {
      "name": "Copy of Untitled2.ipynb",
      "provenance": [],
      "authorship_tag": "ABX9TyPPgSA36nMhDl9Qis/CueBc",
      "include_colab_link": true
    },
    "kernelspec": {
      "name": "python3",
      "display_name": "Python 3"
    },
    "language_info": {
      "name": "python"
    }
  },
  "cells": [
    {
      "cell_type": "markdown",
      "metadata": {
        "id": "view-in-github",
        "colab_type": "text"
      },
      "source": [
        "<a href=\"https://colab.research.google.com/github/Asha2331/BasicML/blob/main/Copy_of_Untitled2.ipynb\" target=\"_parent\"><img src=\"https://colab.research.google.com/assets/colab-badge.svg\" alt=\"Open In Colab\"/></a>"
      ]
    },
    {
      "cell_type": "code",
      "metadata": {
        "id": "k-hs8ixBYaxb"
      },
      "source": [
        ""
      ],
      "execution_count": null,
      "outputs": []
    },
    {
      "cell_type": "markdown",
      "metadata": {
        "id": "vcf5I9nzDHnL"
      },
      "source": [
        ""
      ]
    },
    {
      "cell_type": "markdown",
      "metadata": {
        "id": "4p6JvxA8DJyT"
      },
      "source": [
        ""
      ]
    },
    {
      "cell_type": "markdown",
      "metadata": {
        "id": "rDuYfQaea4Xh"
      },
      "source": [
        "IMPORTING LIBRARIES"
      ]
    },
    {
      "cell_type": "code",
      "metadata": {
        "id": "1XOflHoFa9cG"
      },
      "source": [
        "import numpy as np\n",
        "import pandas as pd\n",
        "from matplotlib import pyplot as pyplot\n",
        "import seaborn as sns"
      ],
      "execution_count": null,
      "outputs": []
    },
    {
      "cell_type": "markdown",
      "metadata": {
        "id": "o1VBc-nybU5n"
      },
      "source": [
        "UNDERSTANDING THE DATA"
      ]
    },
    {
      "cell_type": "code",
      "metadata": {
        "id": "WnhgEXnrbaZ8"
      },
      "source": [
        "data=pd.read_csv(\"C:/Users/Asha Hemanth/Downloads/Literacy Data 2011.csv\")"
      ],
      "execution_count": null,
      "outputs": []
    },
    {
      "cell_type": "code",
      "metadata": {
        "id": "H_VHbCIWdttG"
      },
      "source": [
        "data.head()"
      ],
      "execution_count": null,
      "outputs": []
    },
    {
      "cell_type": "code",
      "metadata": {
        "id": "zpbeWBxDeIn_"
      },
      "source": [
        "data.tail()"
      ],
      "execution_count": null,
      "outputs": []
    },
    {
      "cell_type": "code",
      "metadata": {
        "id": "HjmFzNHceMiE"
      },
      "source": [
        "data.shape"
      ],
      "execution_count": null,
      "outputs": []
    },
    {
      "cell_type": "code",
      "metadata": {
        "id": "xQqeiDcxeRze"
      },
      "source": [
        "data.describe()"
      ],
      "execution_count": null,
      "outputs": []
    },
    {
      "cell_type": "code",
      "metadata": {
        "id": "J-oK4kU7eWO-"
      },
      "source": [
        "data.info()"
      ],
      "execution_count": null,
      "outputs": []
    },
    {
      "cell_type": "code",
      "metadata": {
        "id": "jFz3SHG4eaKi"
      },
      "source": [
        "data['State'].value_counts()"
      ],
      "execution_count": null,
      "outputs": []
    },
    {
      "cell_type": "code",
      "metadata": {
        "id": "3O4q1A-qekBb"
      },
      "source": [
        "data[\"State\"].value_counts()[0:10]"
      ],
      "execution_count": null,
      "outputs": []
    },
    {
      "cell_type": "code",
      "metadata": {
        "id": "cfHjkldQewF6"
      },
      "source": [
        "data=data.sort_values(by=['Literacy'],ascending=False)\n",
        "data"
      ],
      "execution_count": null,
      "outputs": []
    },
    {
      "cell_type": "code",
      "metadata": {
        "id": "b4Rapc__fQ2x"
      },
      "source": [
        "Data=data.head(10)\n",
        "Data"
      ],
      "execution_count": null,
      "outputs": []
    },
    {
      "cell_type": "code",
      "metadata": {
        "id": "5633VDvhfGMZ"
      },
      "source": [
        "Data2=data.head(20)\n",
        "Data2"
      ],
      "execution_count": null,
      "outputs": []
    },
    {
      "cell_type": "markdown",
      "metadata": {
        "id": "UTPNGgUUfiFc"
      },
      "source": [
        "CLEANING THE DATA"
      ]
    },
    {
      "cell_type": "code",
      "metadata": {
        "id": "63DtjcJofnVL"
      },
      "source": [
        "data.isnull().sum()"
      ],
      "execution_count": null,
      "outputs": []
    },
    {
      "cell_type": "code",
      "metadata": {
        "id": "w--iZILQfsfE"
      },
      "source": [
        "data.duplicated()"
      ],
      "execution_count": null,
      "outputs": []
    },
    {
      "cell_type": "markdown",
      "metadata": {
        "id": "MrnkbzL6fxMw"
      },
      "source": [
        "DATA VISUALIZATION"
      ]
    },
    {
      "cell_type": "code",
      "metadata": {
        "id": "nM7MSs6Xf1Zt"
      },
      "source": [
        "plt.figure(figsize=(8,5))\n",
        "plt.bar(list(data[\"State\"].value_counts()[0:10].keys()),list(data[\"State\"].value_counts()[0;10]),color='g')\n",
        "plt.title('BAR GRAPH')\n",
        "plt.grid(True)\n",
        "plt.show()"
      ],
      "execution_count": null,
      "outputs": []
    },
    {
      "cell_type": "code",
      "metadata": {
        "id": "DXscct9qguY-"
      },
      "source": [
        "plt.hist(Data['Literacy'],bins=10,color='r')\n",
        "plt.title('HISTOGRAM')\n",
        "plt.show()"
      ],
      "execution_count": null,
      "outputs": []
    },
    {
      "cell_type": "code",
      "metadata": {
        "id": "mYKRpwdKhGn0"
      },
      "source": [
        "sns.lineplot(data=Data,x='District',y='Literacy')\n",
        "plt.title('LINE PLOT')\n",
        "plt.show()"
      ],
      "execution_count": null,
      "outputs": []
    },
    {
      "cell_type": "code",
      "metadata": {
        "id": "_taiI2ZZhcvl"
      },
      "source": [
        "plt.figure(figsize=(5,5))\n",
        "plt.scatter(data=Data2,x='State',y='Literacy',marker='*',c='g',s=100)\n",
        "plt.title('SCATTER GRAPH')\n",
        "plt.show()"
      ],
      "execution_count": null,
      "outputs": []
    },
    {
      "cell_type": "markdown",
      "metadata": {
        "id": "QVbmhm1eiEgw"
      },
      "source": [
        "SPLITTING THE DATA"
      ]
    },
    {
      "cell_type": "code",
      "metadata": {
        "id": "SYCBMLMJiIPY"
      },
      "source": [
        "from sklearn import datasets\n",
        "from sklearn.model_selection import train_test_split\n",
        "import sklearn.model_selection as model_selection"
      ],
      "execution_count": null,
      "outputs": []
    },
    {
      "cell_type": "code",
      "metadata": {
        "id": "ltObK0RvifCD"
      },
      "source": [
        "X=data.iloc[1:,0:2].values"
      ],
      "execution_count": null,
      "outputs": []
    },
    {
      "cell_type": "code",
      "metadata": {
        "id": "iLiv6BRWir48"
      },
      "source": [
        "Y=data.iloc[1:,2]"
      ],
      "execution_count": null,
      "outputs": []
    },
    {
      "cell_type": "code",
      "metadata": {
        "id": "DtAEJS7-izch"
      },
      "source": [
        "X_train,X_test,Y_train,Y_test=train_test_split(X,Y,test_size=0.2,random_state=1)"
      ],
      "execution_count": null,
      "outputs": []
    },
    {
      "cell_type": "code",
      "metadata": {
        "id": "vHOS4vvHjKBh"
      },
      "source": [
        "X_train"
      ],
      "execution_count": null,
      "outputs": []
    },
    {
      "cell_type": "code",
      "metadata": {
        "id": "qs0oWLpNjMje"
      },
      "source": [
        "X_test"
      ],
      "execution_count": null,
      "outputs": []
    },
    {
      "cell_type": "code",
      "metadata": {
        "id": "krw1-gfZjP5f"
      },
      "source": [
        "Y_train"
      ],
      "execution_count": null,
      "outputs": []
    },
    {
      "cell_type": "code",
      "metadata": {
        "id": "LzyLdf9YjTRO"
      },
      "source": [
        "Y_test"
      ],
      "execution_count": null,
      "outputs": []
    },
    {
      "cell_type": "markdown",
      "metadata": {
        "id": "Zj6hKt44jWxd"
      },
      "source": [
        "MACHINE LEARNING MODELS"
      ]
    },
    {
      "cell_type": "code",
      "metadata": {
        "id": "9E8B1ab9jbsX"
      },
      "source": [
        "mat=pd.read_csv(Ç:)"
      ],
      "execution_count": null,
      "outputs": []
    },
    {
      "cell_type": "code",
      "metadata": {
        "id": "TFfvericjqfT"
      },
      "source": [
        "mat.head()"
      ],
      "execution_count": null,
      "outputs": []
    },
    {
      "cell_type": "code",
      "metadata": {
        "id": "hhFr4Rysjt-f"
      },
      "source": [
        "mat.tail()"
      ],
      "execution_count": null,
      "outputs": []
    },
    {
      "cell_type": "code",
      "metadata": {
        "id": "PEvrolmjjwvh"
      },
      "source": [
        "mat.shape"
      ],
      "execution_count": null,
      "outputs": []
    },
    {
      "cell_type": "code",
      "metadata": {
        "id": "Z92W4ykcj1d3"
      },
      "source": [
        "mat.describe()"
      ],
      "execution_count": null,
      "outputs": []
    },
    {
      "cell_type": "code",
      "metadata": {
        "id": "2x5rXQ2Qj-D0"
      },
      "source": [
        "mat.isnull().any()"
      ],
      "execution_count": null,
      "outputs": []
    },
    {
      "cell_type": "code",
      "metadata": {
        "id": "GczC4k-3kDB3"
      },
      "source": [
        "mat.drop('Walc',axis=1,inplace=True)"
      ],
      "execution_count": null,
      "outputs": []
    },
    {
      "cell_type": "code",
      "metadata": {
        "id": "qYmZE8EXkMTg"
      },
      "source": [
        "mat.drop('Pstatus',axis=1,inplace=True)"
      ],
      "execution_count": null,
      "outputs": []
    },
    {
      "cell_type": "code",
      "metadata": {
        "id": "F2d1hyoukZox"
      },
      "source": [
        "mat.drop('Fedu',axis=1,inplace=True)"
      ],
      "execution_count": null,
      "outputs": []
    },
    {
      "cell_type": "code",
      "metadata": {
        "id": "lQZZ25c7klOD"
      },
      "source": [
        "mat.drop('Medu',axis=1,inplace=True)"
      ],
      "execution_count": null,
      "outputs": []
    },
    {
      "cell_type": "code",
      "metadata": {
        "id": "9oa40O2AkvAO"
      },
      "source": [
        "mat.drop('paid',axis=1,inplace=True)"
      ],
      "execution_count": null,
      "outputs": []
    },
    {
      "cell_type": "code",
      "metadata": {
        "id": "JEepUQcMk3_7"
      },
      "source": [
        "mat.drop('activities'axis=1,inplace=True)"
      ],
      "execution_count": null,
      "outputs": []
    },
    {
      "cell_type": "code",
      "metadata": {
        "id": "BX5KB4-nlFgq"
      },
      "source": [
        "mat.drop('romantic'axis=1,inplace=True)"
      ],
      "execution_count": null,
      "outputs": []
    },
    {
      "cell_type": "code",
      "metadata": {
        "id": "vYWI8GYGlPjX"
      },
      "source": [
        "mat.drop('famrel'axis=1,inplace=True)"
      ],
      "execution_count": null,
      "outputs": []
    },
    {
      "cell_type": "code",
      "metadata": {
        "id": "X1TSCVfRlTdx"
      },
      "source": [
        "mat.drop('famsup'axis=1,inplace=True)"
      ],
      "execution_count": null,
      "outputs": []
    },
    {
      "cell_type": "code",
      "metadata": {
        "id": "v0u9A2DdlXLu"
      },
      "source": [
        "mat.drop('schoolsup'axis=1,inplace=True)"
      ],
      "execution_count": null,
      "outputs": []
    },
    {
      "cell_type": "code",
      "metadata": {
        "id": "g2RtVNq3lbtS"
      },
      "source": [
        "mat"
      ],
      "execution_count": null,
      "outputs": []
    },
    {
      "cell_type": "markdown",
      "metadata": {
        "id": "hsMAGZZ5ld9H"
      },
      "source": [
        "SPLITTING"
      ]
    },
    {
      "cell_type": "code",
      "metadata": {
        "id": "KihnQ0AclgI1"
      },
      "source": [
        "x=mat.iloc[1:,15:18].values"
      ],
      "execution_count": null,
      "outputs": []
    },
    {
      "cell_type": "code",
      "metadata": {
        "id": "OCtjIaAFlpfk"
      },
      "source": [
        "print(x)\n",
        "print(y)"
      ],
      "execution_count": null,
      "outputs": []
    },
    {
      "cell_type": "code",
      "metadata": {
        "id": "947MWDJMlucp"
      },
      "source": [
        "y=mat.iloc[1:,18]"
      ],
      "execution_count": null,
      "outputs": []
    },
    {
      "cell_type": "code",
      "metadata": {
        "id": "Oq3RBtEpl23v"
      },
      "source": [
        "x_train,x_test,y_train,y_test=train_test_split(x,y,test_size=0.2,random_state=2)"
      ],
      "execution_count": null,
      "outputs": []
    },
    {
      "cell_type": "markdown",
      "metadata": {
        "id": "kSZNnzevmKMz"
      },
      "source": [
        "LOGISTIC REGRESSION INCLUDING FITTING,PREDICTION,ACCURACY"
      ]
    },
    {
      "cell_type": "code",
      "metadata": {
        "id": "SNfjhrozmTll"
      },
      "source": [
        "from sklearn.linear_model import LogisticRegression"
      ],
      "execution_count": null,
      "outputs": []
    },
    {
      "cell_type": "code",
      "metadata": {
        "id": "A7OfEKBgm5iu"
      },
      "source": [
        "lr=LogisticRegression()\n",
        "lr.fit(x_train,y_train)"
      ],
      "execution_count": null,
      "outputs": []
    },
    {
      "cell_type": "code",
      "metadata": {
        "id": "KFDWIKQPnJTz"
      },
      "source": [
        "y_pred=lr.predict(x_test)"
      ],
      "execution_count": null,
      "outputs": []
    },
    {
      "cell_type": "code",
      "metadata": {
        "id": "c_FexuP4nPN7"
      },
      "source": [
        "confusion_matrix(y_test,y_pred)"
      ],
      "execution_count": null,
      "outputs": []
    },
    {
      "cell_type": "code",
      "metadata": {
        "id": "DzvIjtDdnXJq"
      },
      "source": [
        "print(lr.score(x_test,y_test))"
      ],
      "execution_count": null,
      "outputs": []
    },
    {
      "cell_type": "markdown",
      "metadata": {
        "id": "NCau6Q0Kndpl"
      },
      "source": [
        "DECISION TREE CLASSIFIER INCLUDING FITTING,PREDICTION,ACCURACY"
      ]
    },
    {
      "cell_type": "code",
      "metadata": {
        "id": "tU_5HzZ5npoU"
      },
      "source": [
        "from sklearn.tree import DecisionTreeClassifier"
      ],
      "execution_count": null,
      "outputs": []
    },
    {
      "cell_type": "code",
      "metadata": {
        "id": "LHY2QH4wny4H"
      },
      "source": [
        "dtc=DecisionTreeClassifier()"
      ],
      "execution_count": null,
      "outputs": []
    },
    {
      "cell_type": "code",
      "metadata": {
        "id": "F6YtGqetn4_c"
      },
      "source": [
        "dtc.fit(x_train,y_train)"
      ],
      "execution_count": null,
      "outputs": []
    },
    {
      "cell_type": "code",
      "metadata": {
        "id": "Vk1Su-7uoAMs"
      },
      "source": [
        "y_pred=dtc.predict(x_test)"
      ],
      "execution_count": null,
      "outputs": []
    },
    {
      "cell_type": "code",
      "metadata": {
        "id": "bgr8GZFGoax0"
      },
      "source": [
        "y_test.head(),y_pred[0:5]"
      ],
      "execution_count": null,
      "outputs": []
    },
    {
      "cell_type": "code",
      "metadata": {
        "id": "0LRNvflboigu"
      },
      "source": [
        "accuracy_score(y_test,y_pred)"
      ],
      "execution_count": null,
      "outputs": []
    },
    {
      "cell_type": "markdown",
      "metadata": {
        "id": "hl0nwViEo5ZF"
      },
      "source": [
        "LINEAR REGRESSION INCLUDING FITTING,PREDICTION,ACCURACY"
      ]
    },
    {
      "cell_type": "code",
      "metadata": {
        "id": "_1YUnQp4qqs2"
      },
      "source": [
        "from sklearn.linear_model import LinearRegression"
      ],
      "execution_count": null,
      "outputs": []
    },
    {
      "cell_type": "code",
      "metadata": {
        "id": "NwexTblfq2pu"
      },
      "source": [
        "lr2=LinearRegression()"
      ],
      "execution_count": null,
      "outputs": []
    },
    {
      "cell_type": "code",
      "metadata": {
        "id": "iR2iI_Clq7pX"
      },
      "source": [
        "lr2.fit(x_train,y_train)"
      ],
      "execution_count": null,
      "outputs": []
    },
    {
      "cell_type": "code",
      "metadata": {
        "id": "HOcgt5SPrBw5"
      },
      "source": [
        "y_pred=lr2.predict(x_test)"
      ],
      "execution_count": null,
      "outputs": []
    },
    {
      "cell_type": "code",
      "metadata": {
        "id": "Z1gCAXslrISV"
      },
      "source": [
        "print(x_test)\n",
        "print(y_pred)"
      ],
      "execution_count": null,
      "outputs": []
    },
    {
      "cell_type": "code",
      "metadata": {
        "id": "MnyTSBLZrQnP"
      },
      "source": [
        "print(lr2.score(x_test,y_test))"
      ],
      "execution_count": null,
      "outputs": []
    },
    {
      "cell_type": "markdown",
      "metadata": {
        "id": "GuI6OvI-rbSQ"
      },
      "source": [
        "A BRIEF DESCRIPTION\n",
        "           "
      ]
    },
    {
      "cell_type": "markdown",
      "metadata": {
        "id": "vLZW0Ml_sxan"
      },
      "source": [
        "Literacy in India is a key for socio-economic progress.Despite government programmes,India's literacy rate increased only \"sluggishly\".The 2011 census, indicated a 2001-2011 decadal literacy growth of 9.2%,which is slower than the growth seen during the previous decade.An old analytical 1990 study estimated that it would take until 2060 for India to achieve universal literacy at the n-current rate of progress.Census of India pegged average literacy rate to be 73% in 2011 whilw National Statistical Comission surveyed literacy to be 77.7% in 2017-18.\n"
      ]
    },
    {
      "cell_type": "markdown",
      "metadata": {
        "id": "dfrIi-81tfcO"
      },
      "source": [
        "In this project , we implemented EXPLORATORY DATA ANALYSIS , SPLITTING BY USING SKLEARN,APPLYING 3 MACHINE LEARNING MODELS..."
      ]
    },
    {
      "cell_type": "code",
      "metadata": {
        "id": "tLLSi6qZeHDK"
      },
      "source": [
        ""
      ],
      "execution_count": null,
      "outputs": []
    },
    {
      "cell_type": "markdown",
      "metadata": {
        "id": "1r73jS8XDU7b"
      },
      "source": [
        ""
      ]
    },
    {
      "cell_type": "markdown",
      "metadata": {
        "id": "ueLXmqMLDeiQ"
      },
      "source": [
        "1.EXPLORATORY DATA ANALYSIS: In statistics, exploratory data analysis is an approach of analyzing data sets to summarize their main characteristics, often using statistical graphics and other data visualization methods. A statistical model can be used or not, but primarily EDA is for seeing what the data can tell us beyond the formal modeling or hypothesis testing task. Exploratory data analysis was promoted by John Tukey to encourage statisticians to explore the data, and possibly formulate hypotheses that could lead to new data collection and experiments. EDA is different from initial data analysis (IDA), which focuses more narrowly on checking assumptions required for model fitting and hypothesis testing, and handling missing values and making transformations of variables as needed. EDA encompasses IDA."
      ]
    },
    {
      "cell_type": "markdown",
      "metadata": {
        "id": "OmkxCEAKDh7O"
      },
      "source": [
        "A data source is where that data that is being used to run a report or gain information is originating from. Data cleaning, or cleansing, is the process of correcting and deleting inaccurate records from a database or table. Data visualization is the process of translating large data sets and metrics into charts, graphs and other visuals."
      ]
    },
    {
      "cell_type": "markdown",
      "metadata": {
        "id": "nvz2ppKVDnwG"
      },
      "source": [
        "2.SPLITTING THE DATA: To train any machine learning model irrespective what type of dataset is being used you have to split the dataset into training data and testing data. Here I have used the ‘train_test_split’ to split the data in 80:20 ratio i.e. 80% of the data will be used for training the model while 20% will be used for testing the model that is built out of it."
      ]
    },
    {
      "cell_type": "markdown",
      "metadata": {
        "id": "7IL65dfDDsO1"
      },
      "source": [
        "3.MACHINE LEARNING MODELS: All machine learning models are categorized as either supervised or unsupervised. If the model is a supervised model, it’s then sub-categorized as either a regression or classification model."
      ]
    },
    {
      "cell_type": "markdown",
      "metadata": {
        "id": "nfqWfpe3DwpM"
      },
      "source": [
        "Here we used 3 machine learning models.\n",
        "           1.LOGISTIC REGRESSION\n",
        "           2.DECISION TREE CLASSIFIER\n",
        "           3.LINEAR REGRESSION"
      ]
    },
    {
      "cell_type": "markdown",
      "metadata": {
        "id": "mH1GLVBkD3YM"
      },
      "source": [
        "->Logistic regression is a statistical analysis method used to predict a data value based on prior observations of a data set."
      ]
    },
    {
      "cell_type": "markdown",
      "metadata": {
        "id": "HWJjU1b8D8bD"
      },
      "source": [
        "->Decision Tree is a Supervised learning technique that can be used for both classification and Regression problems, but mostly it is preferred for solving Classification problems."
      ]
    },
    {
      "cell_type": "markdown",
      "metadata": {
        "id": "abrMMPOED_9_"
      },
      "source": [
        "->Linear Regression Algorithm is a machine learning algorithm based on supervised learning."
      ]
    },
    {
      "cell_type": "markdown",
      "metadata": {
        "id": "44diBUmREENB"
      },
      "source": [
        " When we apply logistic regression model and decision tree classifier model to our dataset,it shows 100 percent accuracy for both models and when we apply linear regression model,it shows 62.3 percent accuracy.So,logistic regression and decision tree classifier are the best machine learning models for our dataset to attain accuracy. "
      ]
    }
  ]
}