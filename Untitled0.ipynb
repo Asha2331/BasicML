{
  "nbformat": 4,
  "nbformat_minor": 0,
  "metadata": {
    "colab": {
      "name": "Untitled0.ipynb",
      "provenance": [],
      "authorship_tag": "ABX9TyN4izYJ2JLMduG/iuP6v2xa",
      "include_colab_link": true
    },
    "kernelspec": {
      "name": "python3",
      "display_name": "Python 3"
    },
    "language_info": {
      "name": "python"
    }
  },
  "cells": [
    {
      "cell_type": "markdown",
      "metadata": {
        "id": "view-in-github",
        "colab_type": "text"
      },
      "source": [
        "<a href=\"https://colab.research.google.com/github/Asha2331/BasicML/blob/main/Untitled0.ipynb\" target=\"_parent\"><img src=\"https://colab.research.google.com/assets/colab-badge.svg\" alt=\"Open In Colab\"/></a>"
      ]
    },
    {
      "cell_type": "code",
      "metadata": {
        "id": "nOaQaGuFpPQ4"
      },
      "source": [
        "program to find whether a number positive or negative or zero ?"
      ],
      "execution_count": null,
      "outputs": []
    },
    {
      "cell_type": "code",
      "metadata": {
        "colab": {
          "base_uri": "https://localhost:8080/"
        },
        "id": "FmiuqV5-ppX9",
        "outputId": "3866c0be-4e40-46e8-81c4-a2767a7aaa63"
      },
      "source": [
        "a = int(input())\n",
        "if a > 0:\n",
        "  print(\"a is Positive\")\n",
        "elif a < 0:\n",
        "  print(\"a is Negative\")\n",
        "else:\n",
        "  print(\"a is zero\")"
      ],
      "execution_count": 1,
      "outputs": [
        {
          "output_type": "stream",
          "text": [
            "1\n",
            "a is Positive\n"
          ],
          "name": "stdout"
        }
      ]
    },
    {
      "cell_type": "markdown",
      "metadata": {
        "id": "gfk2locyqngV"
      },
      "source": [
        "program to find the sum of two numbers?"
      ]
    },
    {
      "cell_type": "code",
      "metadata": {
        "colab": {
          "base_uri": "https://localhost:8080/"
        },
        "id": "_JZiKcGlq5b-",
        "outputId": "7914470a-262f-4edb-d6cc-92b9d8bb3fc9"
      },
      "source": [
        "a = int(input())\n",
        "b = int(input())\n",
        "c = a+b\n",
        "print(c)"
      ],
      "execution_count": 3,
      "outputs": [
        {
          "output_type": "stream",
          "text": [
            "1\n",
            "2\n",
            "3\n"
          ],
          "name": "stdout"
        }
      ]
    },
    {
      "cell_type": "markdown",
      "metadata": {
        "id": "cacCHb6vr1gl"
      },
      "source": [
        "program to find whether a given number odd or even?"
      ]
    },
    {
      "cell_type": "markdown",
      "metadata": {
        "id": "cuiNC6DZsEUG"
      },
      "source": [
        ""
      ]
    },
    {
      "cell_type": "code",
      "metadata": {
        "colab": {
          "base_uri": "https://localhost:8080/"
        },
        "id": "8zwzotRDsFVm",
        "outputId": "6e043835-46b2-466f-c27c-9f433d379d97"
      },
      "source": [
        "a = int(input())\n",
        "if a % 2 == 0:\n",
        "  print(\"Even\")\n",
        "else:\n",
        "  print(\"Odd\")"
      ],
      "execution_count": 4,
      "outputs": [
        {
          "output_type": "stream",
          "text": [
            "3\n",
            "Odd\n"
          ],
          "name": "stdout"
        }
      ]
    },
    {
      "cell_type": "markdown",
      "metadata": {
        "id": "gUGHE6-ypa26"
      },
      "source": [
        ""
      ]
    }
  ]
}